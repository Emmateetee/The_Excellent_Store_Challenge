{
 "cells": [
  {
   "cell_type": "code",
   "execution_count": null,
   "metadata": {},
   "outputs": [],
   "source": []
  },
  {
   "cell_type": "code",
   "execution_count": 1,
   "metadata": {},
   "outputs": [],
   "source": [
    "import numpy as np\n",
    "import pandas as pd\n",
    "import seaborn as sns\n",
    "import matplotlib.pyplot as plt\n",
    "%matplotlib inline"
   ]
  },
  {
   "cell_type": "code",
   "execution_count": 2,
   "metadata": {},
   "outputs": [],
   "source": [
    "from sklearn.model_selection import cross_val_score, KFold, RepeatedKFold\n",
    "from sklearn.metrics import mean_squared_error as mse\n",
    "from sklearn.metrics import r2_score\n",
    "from catboost import CatBoostRegressor\n",
    "from xgboost import XGBRegressor\n",
    "from lightgbm import LGBMRegressor\n",
    "from sklearn.linear_model import LinearRegression\n",
    "from sklearn.neighbors import KNeighborsRegressor\n",
    "from sklearn.tree import DecisionTreeRegressor\n",
    "from sklearn.svm import SVR\n",
    "from sklearn.ensemble import RandomForestRegressor\n",
    "from sklearn.ensemble import StackingRegressor"
   ]
  },
  {
   "cell_type": "code",
   "execution_count": 3,
   "metadata": {},
   "outputs": [],
   "source": [
    "train = pd.read_csv('train.csv')\n",
    "test = pd.read_csv('test.csv')\n",
    "sol = pd.read_csv('SampleSubmission.csv')"
   ]
  },
  {
   "cell_type": "code",
   "execution_count": 4,
   "metadata": {},
   "outputs": [
    {
     "name": "stdout",
     "output_type": "stream",
     "text": [
      "(4990, 13)\n",
      "(3532, 12)\n"
     ]
    }
   ],
   "source": [
    "print(train.shape)\n",
    "print(test.shape)"
   ]
  },
  {
   "cell_type": "code",
   "execution_count": 5,
   "metadata": {},
   "outputs": [],
   "source": [
    "submit = test[['Item_Store_ID']]"
   ]
  },
  {
   "cell_type": "code",
   "execution_count": 6,
   "metadata": {},
   "outputs": [
    {
     "data": {
      "text/plain": [
       "(3532, 1)"
      ]
     },
     "execution_count": 6,
     "metadata": {},
     "output_type": "execute_result"
    }
   ],
   "source": [
    "submit.shape"
   ]
  },
  {
   "cell_type": "code",
   "execution_count": 7,
   "metadata": {},
   "outputs": [],
   "source": [
    "train.drop(['Item_Store_ID','Item_ID'], axis = 1, inplace = True)\n",
    "test.drop(['Item_Store_ID','Item_ID'], axis = 1, inplace = True)"
   ]
  },
  {
   "cell_type": "code",
   "execution_count": 8,
   "metadata": {},
   "outputs": [],
   "source": [
    "# train['Item_Store_Returns'].hist()"
   ]
  },
  {
   "cell_type": "markdown",
   "metadata": {},
   "source": [
    "### Replacing Missing values"
   ]
  },
  {
   "cell_type": "code",
   "execution_count": 9,
   "metadata": {},
   "outputs": [],
   "source": [
    "train['Item_Weight'].fillna(train['Item_Weight'].mean(), inplace = True)\n",
    "test['Item_Weight'].fillna(test['Item_Weight'].mean(), inplace = True)"
   ]
  },
  {
   "cell_type": "code",
   "execution_count": 10,
   "metadata": {},
   "outputs": [],
   "source": [
    "train['Store_Size'].fillna(train['Store_Size'].mode()[0], inplace = True)\n",
    "test['Store_Size'].fillna(test['Store_Size'].mode()[0], inplace = True)"
   ]
  },
  {
   "cell_type": "code",
   "execution_count": 11,
   "metadata": {},
   "outputs": [],
   "source": [
    "from datetime import datetime as dt"
   ]
  },
  {
   "cell_type": "code",
   "execution_count": 12,
   "metadata": {},
   "outputs": [],
   "source": [
    "train['Store_Start_Year'] = (dt.today().year - train['Store_Start_Year']).astype('float')\n",
    "test['Store_Start_Year'] = (dt.today().year - test['Store_Start_Year']).astype('float')"
   ]
  },
  {
   "cell_type": "code",
   "execution_count": 13,
   "metadata": {},
   "outputs": [],
   "source": [
    "train['sqrt_Item_Price'] = np.sqrt(train['Item_Price'])\n",
    "test['sqrt_Item_Price'] = np.sqrt(test['Item_Price'])\n",
    "\n",
    "\n",
    "train['cross_Item_weight'] = train['Item_Price'] * train['Item_Weight']\n",
    "test['cross_Item_weight'] = test['Item_Price'] * test['Item_Weight']\n",
    "\n",
    "train['Cross_Item_visibility_weight'] = train['Item_Price'] * train['Item_Weight'] * train['Item_Visibility']\n",
    "test['Cross_Item_visibility_weight'] = test['Item_Price'] * test['Item_Weight'] * test['Item_Visibility']"
   ]
  },
  {
   "cell_type": "code",
   "execution_count": 14,
   "metadata": {},
   "outputs": [],
   "source": [
    "data = train.drop('Item_Store_Returns', axis = 1)\n",
    "target = train['Item_Store_Returns']"
   ]
  },
  {
   "cell_type": "code",
   "execution_count": 15,
   "metadata": {},
   "outputs": [
    {
     "name": "stdout",
     "output_type": "stream",
     "text": [
      "(4990, 13)\n",
      "(4990,)\n"
     ]
    }
   ],
   "source": [
    "print(data.shape)\n",
    "print(target.shape)"
   ]
  },
  {
   "cell_type": "code",
   "execution_count": 16,
   "metadata": {},
   "outputs": [],
   "source": [
    "from sklearn.preprocessing import OrdinalEncoder\n",
    "oe = OrdinalEncoder()"
   ]
  },
  {
   "cell_type": "code",
   "execution_count": 17,
   "metadata": {},
   "outputs": [],
   "source": [
    "data['Item_Sugar_Content'] = oe.fit_transform(data.Item_Sugar_Content.values.reshape(-1, 1))\n",
    "test['Item_Sugar_Content'] = oe.fit_transform(test.Item_Sugar_Content.values.reshape(-1, 1))\n",
    "\n",
    "data['Store_Size'] = oe.fit_transform(data.Store_Size.values.reshape(-1, 1))\n",
    "test['Store_Size'] = oe.fit_transform(test.Store_Size.values.reshape(-1, 1))"
   ]
  },
  {
   "cell_type": "code",
   "execution_count": 18,
   "metadata": {},
   "outputs": [],
   "source": [
    "dummy1 = pd.get_dummies(data['Store_ID'],prefix = 'Store_ID' )\n",
    "dummy2 = pd.get_dummies(test['Store_ID'],prefix = 'Store_ID' )\n",
    "\n",
    "data = pd.concat([data, dummy1], axis = 1)\n",
    "test = pd.concat([test, dummy2], axis = 1)\n",
    "\n",
    "data.drop('Store_ID', axis = 1, inplace = True)\n",
    "test.drop('Store_ID', axis = 1, inplace = True)"
   ]
  },
  {
   "cell_type": "code",
   "execution_count": 19,
   "metadata": {},
   "outputs": [],
   "source": [
    "dummy1 = pd.get_dummies(data['Item_Type'],prefix = 'Item_Type' )\n",
    "dummy2 = pd.get_dummies(test['Item_Type'],prefix = 'Item_Type' )\n",
    "\n",
    "data = pd.concat([data, dummy1], axis = 1)\n",
    "test = pd.concat([test, dummy2], axis = 1)\n",
    "\n",
    "data.drop('Item_Type', axis = 1, inplace = True)\n",
    "test.drop('Item_Type', axis = 1, inplace = True)"
   ]
  },
  {
   "cell_type": "code",
   "execution_count": 20,
   "metadata": {},
   "outputs": [],
   "source": [
    "dummy1 = pd.get_dummies(data['Store_Location_Type'],prefix = 'Loc_Type' )\n",
    "dummy2 = pd.get_dummies(test['Store_Location_Type'],prefix = 'Loc_Type' )\n",
    "\n",
    "data = pd.concat([data, dummy1], axis = 1)\n",
    "test = pd.concat([test, dummy2], axis = 1)\n",
    "\n",
    "data.drop('Store_Location_Type', axis = 1, inplace = True)\n",
    "test.drop('Store_Location_Type', axis = 1, inplace = True)"
   ]
  },
  {
   "cell_type": "code",
   "execution_count": 21,
   "metadata": {},
   "outputs": [],
   "source": [
    "dummy1 = pd.get_dummies(data['Store_Type'],prefix = 'Store_Type' )\n",
    "dummy2 = pd.get_dummies(test['Store_Type'],prefix = 'Store_Type' )\n",
    "\n",
    "data = pd.concat([data, dummy1], axis = 1)\n",
    "test = pd.concat([test, dummy2], axis = 1)\n",
    "\n",
    "data.drop('Store_Type', axis = 1, inplace = True)\n",
    "test.drop('Store_Type', axis = 1, inplace = True)"
   ]
  },
  {
   "cell_type": "code",
   "execution_count": 22,
   "metadata": {},
   "outputs": [
    {
     "name": "stdout",
     "output_type": "stream",
     "text": [
      "(4990, 42)\n",
      "(3532, 42)\n"
     ]
    }
   ],
   "source": [
    "print(data.shape)\n",
    "print(test.shape)"
   ]
  },
  {
   "cell_type": "code",
   "execution_count": null,
   "metadata": {},
   "outputs": [],
   "source": []
  },
  {
   "cell_type": "code",
   "execution_count": 23,
   "metadata": {},
   "outputs": [],
   "source": [
    "# get a list of models to evaluate\n",
    "# def get_models():\n",
    "#     models = dict()\n",
    "#     models['knn'] = KNeighborsRegressor()\n",
    "#     models['cart'] = DecisionTreeRegressor()\n",
    "#     models['svm'] = SVR()\n",
    "#     models['rfr'] = RandomForestRegressor()\n",
    "#     return models"
   ]
  },
  {
   "cell_type": "code",
   "execution_count": 35,
   "metadata": {},
   "outputs": [],
   "source": [
    "def get_models():\n",
    "    models = dict()\n",
    "    models['lgb'] = LGBMRegressor(num_leaves=200, min_data_in_leaf=3,\n",
    "                    objective='regression',\n",
    "                    max_depth=-1,learning_rate=0.05, \n",
    "                    boosting_type='gbdt', \n",
    "                    feature_fraction=0.60,\n",
    "                    lambda_l1=1,lambda_l2=1, \n",
    "                    metric='rmse', \n",
    "                    num_iterations=4000)\n",
    "    models['xgb'] = XGBRegressor(n_estimators = 5000, max_depth = 30, \n",
    "                     reg_lambda = 80,random_state = 30,\n",
    "                     learning_rate=0.1, gamma = 1.5)\n",
    "    models['cat'] = CatBoostRegressor(iterations = 50, depth = 3, learning_rate = 0.05, loss_function = 'RMSE')\n",
    "    models['rfr'] = RandomForestRegressor()\n",
    "    return models"
   ]
  },
  {
   "cell_type": "code",
   "execution_count": 36,
   "metadata": {},
   "outputs": [],
   "source": [
    "# evaluate a given model using cross-validation\n",
    "def evaluate_model(model):\n",
    "    cv = RepeatedKFold(n_splits=10, n_repeats=3, random_state=1)\n",
    "    scores = cross_val_score(model, data, target, scoring='neg_mean_squared_error', cv=cv, n_jobs=-1, error_score='raise')\n",
    "    scores = np.abs(scores)\n",
    "    return scores"
   ]
  },
  {
   "cell_type": "code",
   "execution_count": null,
   "metadata": {},
   "outputs": [
    {
     "name": "stdout",
     "output_type": "stream",
     "text": [
      ">lgb 10609805.767 (940614.090)\n"
     ]
    }
   ],
   "source": [
    "# get the models to evaluate\n",
    "models = get_models()\n",
    "# evaluate the models and store results\n",
    "results, names = list(), list()\n",
    "for name, model in models.items():\n",
    "    scores = evaluate_model(model)\n",
    "    results.append(scores)\n",
    "    names.append(name)\n",
    "    print('>%s %.3f (%.3f)' % (name, np.mean(scores), np.std(scores)))\n"
   ]
  },
  {
   "cell_type": "code",
   "execution_count": null,
   "metadata": {},
   "outputs": [],
   "source": [
    "lgb = LGBMRegressor(num_leaves=200, min_data_in_leaf=3,\n",
    "                    objective='regression',\n",
    "                    max_depth=-1,learning_rate=0.05, \n",
    "                    boosting_type='gbdt', \n",
    "                    feature_fraction=0.60,\n",
    "                    lambda_l1=1,lambda_l2=1, \n",
    "                    metric='rmse', \n",
    "                    num_iterations=4000)\n",
    "\n",
    "xgb = XGBRegressor(n_estimators = 5000, max_depth = 30, \n",
    "                     reg_lambda = 80,random_state = 30,\n",
    "                     learning_rate=0.1, gamma = 1.5)\n",
    "\n",
    "cat = CatBoostRegressor(iterations = 50, depth = 3, learning_rate = 0.05, loss_function = 'RMSE')"
   ]
  },
  {
   "cell_type": "code",
   "execution_count": 28,
   "metadata": {},
   "outputs": [],
   "source": [
    "# def get_stacking():\n",
    "#     # define the base models\n",
    "#     level0 = list()\n",
    "#     level0.append(('knn', KNeighborsRegressor()))\n",
    "#     level0.append(('cart', DecisionTreeRegressor()))\n",
    "#     level0.append(('svm', SVR()))\n",
    "#     level0.append(('rfr', RandomForestRegressor()))\n",
    "    \n",
    "#     # define meta learner model\n",
    "#     level1 = LinearRegression()\n",
    "#     # define the stacking ensemble\n",
    "#     model = StackingRegressor(estimators=level0, final_estimator=level1, cv=10)\n",
    "#     return model"
   ]
  },
  {
   "cell_type": "code",
   "execution_count": null,
   "metadata": {},
   "outputs": [],
   "source": [
    "def get_stacking():\n",
    "    # define the base models\n",
    "    level0 = list()\n",
    "    level0.append(('lgb', lgb))\n",
    "    level0.append(('xgb', xgb))\n",
    "    level0.append(('rfr', RandomForestRegressor()))\n",
    "    \n",
    "    # define meta learner model\n",
    "    level1 = cat\n",
    "    # define the stacking ensemble\n",
    "    model = StackingRegressor(estimators=level0, final_estimator=level1, cv=10)\n",
    "    return model"
   ]
  },
  {
   "cell_type": "code",
   "execution_count": 29,
   "metadata": {},
   "outputs": [],
   "source": [
    "# # get a list of models to evaluate\n",
    "# def get_models():\n",
    "#     models = dict()\n",
    "#     models['knn'] = KNeighborsRegressor()\n",
    "#     models['cart'] = DecisionTreeRegressor()\n",
    "#     models['svm'] = SVR()\n",
    "#     models['rfr'] = RandomForestRegressor()\n",
    "#     models['stacking'] = get_stacking()\n",
    "    \n",
    "#     return models"
   ]
  },
  {
   "cell_type": "code",
   "execution_count": null,
   "metadata": {},
   "outputs": [],
   "source": [
    "# get a list of models to evaluate\n",
    "def get_models():\n",
    "    models = dict()\n",
    "    models['lgb'] = LGBMRegressor(num_leaves=200, min_data_in_leaf=3,\n",
    "                    objective='regression',\n",
    "                    max_depth=-1,learning_rate=0.05, \n",
    "                    boosting_type='gbdt', \n",
    "                    feature_fraction=0.60,\n",
    "                    lambda_l1=1,lambda_l2=1, \n",
    "                    metric='rmse', \n",
    "                    num_iterations=4000)\n",
    "    models['xgb'] = XGBRegressor(n_estimators = 5000, max_depth = 30, \n",
    "                     reg_lambda = 80,random_state = 30,\n",
    "                     learning_rate=0.1, gamma = 1.5)\n",
    "    #models['cat'] = CatBoostRegressor(iterations = 50, depth = 3, learning_rate = 0.05, loss_function = 'RMSE')\n",
    "    models['rfr'] = RandomForestRegressor()\n",
    "    models['stacking'] = get_stacking()\n",
    "    \n",
    "    return models"
   ]
  },
  {
   "cell_type": "code",
   "execution_count": 34,
   "metadata": {},
   "outputs": [
    {
     "name": "stdout",
     "output_type": "stream",
     "text": [
      ">knn 15996386.148 (1380667.192)\n",
      ">cart 17494565.609 (1241709.494)\n",
      ">svm 19679744.937 (2095108.408)\n",
      ">rfr 9477643.305 (857116.117)\n",
      ">stacking 9356602.056 (895245.333)\n"
     ]
    }
   ],
   "source": [
    "# # get the models to evaluate\n",
    "# models = get_models()\n",
    "# # evaluate the models and store results\n",
    "# results, names = list(), list()\n",
    "# for name, model in models.items():\n",
    "#     scores = evaluate_model(model)\n",
    "#     results.append(scores)\n",
    "#     names.append(name)\n",
    "#     print('>%s %.3f (%.3f)' % (name, np.mean(scores), np.std(scores)))"
   ]
  },
  {
   "cell_type": "code",
   "execution_count": null,
   "metadata": {},
   "outputs": [],
   "source": [
    "# get the models to evaluate\n",
    "models = get_models()\n",
    "# evaluate the models and store results\n",
    "results, names = list(), list()\n",
    "for name, model in models.items():\n",
    "    scores = evaluate_model(model)\n",
    "    results.append(scores)\n",
    "    names.append(name)\n",
    "    print('>%s %.3f (%.3f)' % (name, np.mean(scores), np.std(scores)))"
   ]
  },
  {
   "cell_type": "code",
   "execution_count": null,
   "metadata": {},
   "outputs": [],
   "source": [
    "# define the base models\n",
    "level0 = list()\n",
    "level0.append(('knn', KNeighborsRegressor()))\n",
    "level0.append(('cart', DecisionTreeRegressor()))\n",
    "level0.append(('svm', SVR()))\n",
    "# define meta learner model\n",
    "level1 = LinearRegression()\n",
    "# define the stacking ensemble\n",
    "model = StackingRegressor(estimators=level0, final_estimator=level1, cv=5)\n",
    "# fit the model on all available data\n",
    "model.fit(X, y)\n",
    "# make a prediction for one example\n",
    "model.predict(test)"
   ]
  },
  {
   "cell_type": "code",
   "execution_count": null,
   "metadata": {},
   "outputs": [],
   "source": []
  },
  {
   "cell_type": "code",
   "execution_count": null,
   "metadata": {},
   "outputs": [],
   "source": []
  },
  {
   "cell_type": "code",
   "execution_count": null,
   "metadata": {},
   "outputs": [],
   "source": [
    "# xgb_scores = []\n",
    "# xgb_test_pred = np.zeros(len(test))\n",
    "# xgb_train_pred = np.zeros(len(train))\n",
    "\n",
    "# for fold,(tr_in,te_in) in enumerate(kf.split(data)):\n",
    "    \n",
    "#     print(f\"==================================Fold{fold}=============================================\")\n",
    "#     X_train,X_test = data.iloc[tr_in],data.iloc[te_in]\n",
    "#     y_train,y_test = target.iloc[tr_in],target.iloc[te_in]\n",
    "    \n",
    "#     xgb.fit(X_train,y_train,eval_set = [(X_train,y_train),(X_test,y_test)],\n",
    "#             early_stopping_rounds = 500)\n",
    "    \n",
    "#     xgb_scores.append(np.sqrt(mse(y_test,xgb.predict(X_test))))\n",
    "    \n",
    "#     xgb_train_pred += xgb.predict(data)\n",
    "#     xgb_test_pred += xgb.predict(test)"
   ]
  },
  {
   "cell_type": "code",
   "execution_count": null,
   "metadata": {},
   "outputs": [],
   "source": [
    "# np.mean(xgb_scores)"
   ]
  },
  {
   "cell_type": "code",
   "execution_count": null,
   "metadata": {},
   "outputs": [],
   "source": [
    "# feat_import = pd.Series(xgb.feature_importances_, index = data.columns)\n",
    "# feat_import"
   ]
  },
  {
   "cell_type": "code",
   "execution_count": null,
   "metadata": {},
   "outputs": [],
   "source": [
    "# feat_import = pd.Series(xgb.feature_importances_, index = data.columns)\n",
    "# feat_import.sort_values(ascending = False).nlargest(20).plot(kind = 'barh')"
   ]
  },
  {
   "cell_type": "code",
   "execution_count": null,
   "metadata": {},
   "outputs": [],
   "source": [
    "# data2 = data.drop(['Item_ID', 'Item_Visibility'], axis = 1)"
   ]
  },
  {
   "cell_type": "code",
   "execution_count": null,
   "metadata": {},
   "outputs": [],
   "source": [
    "# test2 = test.drop(['Item_ID', 'Item_Visibility'], axis = 1)"
   ]
  },
  {
   "cell_type": "code",
   "execution_count": null,
   "metadata": {},
   "outputs": [],
   "source": [
    "final = xgb_test_pred/30"
   ]
  },
  {
   "cell_type": "code",
   "execution_count": null,
   "metadata": {},
   "outputs": [],
   "source": [
    "sub2 = pd.DataFrame(final, columns = ['Item_Store_Returns'])"
   ]
  },
  {
   "cell_type": "code",
   "execution_count": null,
   "metadata": {},
   "outputs": [],
   "source": [
    "sub2.head()"
   ]
  },
  {
   "cell_type": "code",
   "execution_count": null,
   "metadata": {},
   "outputs": [],
   "source": [
    "sub2['Item_Store_Returns'] = round(sub2['Item_Store_Returns']).astype('int')"
   ]
  },
  {
   "cell_type": "code",
   "execution_count": null,
   "metadata": {},
   "outputs": [],
   "source": [
    "sub2.head()"
   ]
  },
  {
   "cell_type": "code",
   "execution_count": null,
   "metadata": {},
   "outputs": [],
   "source": [
    "submission = pd.concat([submit, sub2], axis = 1)"
   ]
  },
  {
   "cell_type": "code",
   "execution_count": null,
   "metadata": {},
   "outputs": [],
   "source": [
    "submission.head()"
   ]
  },
  {
   "cell_type": "code",
   "execution_count": null,
   "metadata": {},
   "outputs": [],
   "source": [
    "submission.shape"
   ]
  },
  {
   "cell_type": "code",
   "execution_count": null,
   "metadata": {},
   "outputs": [],
   "source": [
    "submission.to_csv('My_submission2c2.csv', index = False)"
   ]
  },
  {
   "cell_type": "code",
   "execution_count": null,
   "metadata": {},
   "outputs": [],
   "source": []
  }
 ],
 "metadata": {
  "kernelspec": {
   "display_name": "Python 3",
   "language": "python",
   "name": "python3"
  },
  "language_info": {
   "codemirror_mode": {
    "name": "ipython",
    "version": 3
   },
   "file_extension": ".py",
   "mimetype": "text/x-python",
   "name": "python",
   "nbconvert_exporter": "python",
   "pygments_lexer": "ipython3",
   "version": "3.7.6"
  }
 },
 "nbformat": 4,
 "nbformat_minor": 4
}
