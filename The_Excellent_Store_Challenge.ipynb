{
 "cells": [
  {
   "cell_type": "code",
   "execution_count": null,
   "metadata": {},
   "outputs": [],
   "source": []
  },
  {
   "cell_type": "code",
   "execution_count": 1,
   "metadata": {},
   "outputs": [],
   "source": [
    "import numpy as np\n",
    "import pandas as pd\n",
    "import seaborn as sns\n",
    "import matplotlib.pyplot as plt\n",
    "%matplotlib inline"
   ]
  },
  {
   "cell_type": "code",
   "execution_count": 96,
   "metadata": {},
   "outputs": [],
   "source": [
    "from sklearn.model_selection import cross_val_score, KFold\n",
    "from sklearn.metrics import mean_squared_error as mse\n",
    "from sklearn.metrics import r2_score\n",
    "from catboost import CatBoostRegressor\n",
    "from xgboost import XGBRegressor\n",
    "from lightgbm import LGBMRegressor"
   ]
  },
  {
   "cell_type": "code",
   "execution_count": 3,
   "metadata": {},
   "outputs": [],
   "source": [
    "train = pd.read_csv('train.csv')\n",
    "test = pd.read_csv('test.csv')\n",
    "sol = pd.read_csv('SampleSubmission.csv')"
   ]
  },
  {
   "cell_type": "code",
   "execution_count": 4,
   "metadata": {},
   "outputs": [
    {
     "name": "stdout",
     "output_type": "stream",
     "text": [
      "(4990, 13)\n",
      "(3532, 12)\n"
     ]
    }
   ],
   "source": [
    "print(train.shape)\n",
    "print(test.shape)"
   ]
  },
  {
   "cell_type": "code",
   "execution_count": 74,
   "metadata": {},
   "outputs": [
    {
     "data": {
      "text/html": [
       "<div>\n",
       "<style scoped>\n",
       "    .dataframe tbody tr th:only-of-type {\n",
       "        vertical-align: middle;\n",
       "    }\n",
       "\n",
       "    .dataframe tbody tr th {\n",
       "        vertical-align: top;\n",
       "    }\n",
       "\n",
       "    .dataframe thead th {\n",
       "        text-align: right;\n",
       "    }\n",
       "</style>\n",
       "<table border=\"1\" class=\"dataframe\">\n",
       "  <thead>\n",
       "    <tr style=\"text-align: right;\">\n",
       "      <th></th>\n",
       "      <th>Item_ID</th>\n",
       "      <th>Store_ID</th>\n",
       "      <th>Item_Weight</th>\n",
       "      <th>Item_Sugar_Content</th>\n",
       "      <th>Item_Visibility</th>\n",
       "      <th>Item_Type</th>\n",
       "      <th>Item_Price</th>\n",
       "      <th>Store_Start_Year</th>\n",
       "      <th>Store_Size</th>\n",
       "      <th>Store_Location_Type</th>\n",
       "      <th>Store_Type</th>\n",
       "      <th>Item_Store_Returns</th>\n",
       "      <th>sqrt_Item_Price</th>\n",
       "      <th>cross_Item_weight</th>\n",
       "      <th>Cross_Item_visibility_weight</th>\n",
       "    </tr>\n",
       "  </thead>\n",
       "  <tbody>\n",
       "    <tr>\n",
       "      <th>0</th>\n",
       "      <td>DRA12</td>\n",
       "      <td>BABATUNJI010</td>\n",
       "      <td>11.6</td>\n",
       "      <td>Low Sugar</td>\n",
       "      <td>0.068535</td>\n",
       "      <td>Soft Drinks</td>\n",
       "      <td>357.54</td>\n",
       "      <td>15.0</td>\n",
       "      <td>Medium</td>\n",
       "      <td>Cluster 3</td>\n",
       "      <td>Grocery Store</td>\n",
       "      <td>6.565378</td>\n",
       "      <td>18.908728</td>\n",
       "      <td>4147.464</td>\n",
       "      <td>284.246607</td>\n",
       "    </tr>\n",
       "    <tr>\n",
       "      <th>1</th>\n",
       "      <td>DRA12</td>\n",
       "      <td>BABATUNJI013</td>\n",
       "      <td>11.6</td>\n",
       "      <td>Low Sugar</td>\n",
       "      <td>0.040912</td>\n",
       "      <td>Soft Drinks</td>\n",
       "      <td>355.79</td>\n",
       "      <td>26.0</td>\n",
       "      <td>High</td>\n",
       "      <td>Cluster 3</td>\n",
       "      <td>Supermarket Type1</td>\n",
       "      <td>8.761345</td>\n",
       "      <td>18.862396</td>\n",
       "      <td>4127.164</td>\n",
       "      <td>168.849807</td>\n",
       "    </tr>\n",
       "    <tr>\n",
       "      <th>2</th>\n",
       "      <td>DRA12</td>\n",
       "      <td>BABATUNJI017</td>\n",
       "      <td>11.6</td>\n",
       "      <td>Low Sugar</td>\n",
       "      <td>0.041178</td>\n",
       "      <td>Soft Drinks</td>\n",
       "      <td>350.79</td>\n",
       "      <td>6.0</td>\n",
       "      <td>Medium</td>\n",
       "      <td>Cluster 2</td>\n",
       "      <td>Supermarket Type1</td>\n",
       "      <td>8.761345</td>\n",
       "      <td>18.729389</td>\n",
       "      <td>4069.164</td>\n",
       "      <td>167.558021</td>\n",
       "    </tr>\n",
       "    <tr>\n",
       "      <th>3</th>\n",
       "      <td>DRA12</td>\n",
       "      <td>BABATUNJI018</td>\n",
       "      <td>11.6</td>\n",
       "      <td>Low Sugar</td>\n",
       "      <td>0.041113</td>\n",
       "      <td>Soft Drinks</td>\n",
       "      <td>355.04</td>\n",
       "      <td>4.0</td>\n",
       "      <td>Medium</td>\n",
       "      <td>Cluster 3</td>\n",
       "      <td>Supermarket Type2</td>\n",
       "      <td>7.663046</td>\n",
       "      <td>18.842505</td>\n",
       "      <td>4118.464</td>\n",
       "      <td>169.321150</td>\n",
       "    </tr>\n",
       "    <tr>\n",
       "      <th>4</th>\n",
       "      <td>DRA12</td>\n",
       "      <td>BABATUNJI035</td>\n",
       "      <td>11.6</td>\n",
       "      <td>Ultra Low Sugar</td>\n",
       "      <td>0.000000</td>\n",
       "      <td>Soft Drinks</td>\n",
       "      <td>354.79</td>\n",
       "      <td>9.0</td>\n",
       "      <td>Small</td>\n",
       "      <td>Cluster 2</td>\n",
       "      <td>Supermarket Type1</td>\n",
       "      <td>7.817130</td>\n",
       "      <td>18.835870</td>\n",
       "      <td>4115.564</td>\n",
       "      <td>0.000000</td>\n",
       "    </tr>\n",
       "  </tbody>\n",
       "</table>\n",
       "</div>"
      ],
      "text/plain": [
       "  Item_ID      Store_ID  Item_Weight Item_Sugar_Content  Item_Visibility  \\\n",
       "0   DRA12  BABATUNJI010         11.6          Low Sugar         0.068535   \n",
       "1   DRA12  BABATUNJI013         11.6          Low Sugar         0.040912   \n",
       "2   DRA12  BABATUNJI017         11.6          Low Sugar         0.041178   \n",
       "3   DRA12  BABATUNJI018         11.6          Low Sugar         0.041113   \n",
       "4   DRA12  BABATUNJI035         11.6    Ultra Low Sugar         0.000000   \n",
       "\n",
       "     Item_Type  Item_Price  Store_Start_Year Store_Size Store_Location_Type  \\\n",
       "0  Soft Drinks      357.54              15.0     Medium           Cluster 3   \n",
       "1  Soft Drinks      355.79              26.0       High           Cluster 3   \n",
       "2  Soft Drinks      350.79               6.0     Medium           Cluster 2   \n",
       "3  Soft Drinks      355.04               4.0     Medium           Cluster 3   \n",
       "4  Soft Drinks      354.79               9.0      Small           Cluster 2   \n",
       "\n",
       "          Store_Type  Item_Store_Returns  sqrt_Item_Price  cross_Item_weight  \\\n",
       "0      Grocery Store            6.565378        18.908728           4147.464   \n",
       "1  Supermarket Type1            8.761345        18.862396           4127.164   \n",
       "2  Supermarket Type1            8.761345        18.729389           4069.164   \n",
       "3  Supermarket Type2            7.663046        18.842505           4118.464   \n",
       "4  Supermarket Type1            7.817130        18.835870           4115.564   \n",
       "\n",
       "   Cross_Item_visibility_weight  \n",
       "0                    284.246607  \n",
       "1                    168.849807  \n",
       "2                    167.558021  \n",
       "3                    169.321150  \n",
       "4                      0.000000  "
      ]
     },
     "execution_count": 74,
     "metadata": {},
     "output_type": "execute_result"
    }
   ],
   "source": [
    "train.head()"
   ]
  },
  {
   "cell_type": "code",
   "execution_count": 75,
   "metadata": {},
   "outputs": [
    {
     "data": {
      "text/html": [
       "<div>\n",
       "<style scoped>\n",
       "    .dataframe tbody tr th:only-of-type {\n",
       "        vertical-align: middle;\n",
       "    }\n",
       "\n",
       "    .dataframe tbody tr th {\n",
       "        vertical-align: top;\n",
       "    }\n",
       "\n",
       "    .dataframe thead th {\n",
       "        text-align: right;\n",
       "    }\n",
       "</style>\n",
       "<table border=\"1\" class=\"dataframe\">\n",
       "  <thead>\n",
       "    <tr style=\"text-align: right;\">\n",
       "      <th></th>\n",
       "      <th>Item_ID</th>\n",
       "      <th>Store_ID</th>\n",
       "      <th>Item_Weight</th>\n",
       "      <th>Item_Sugar_Content</th>\n",
       "      <th>Item_Visibility</th>\n",
       "      <th>Item_Type</th>\n",
       "      <th>Item_Price</th>\n",
       "      <th>Store_Start_Year</th>\n",
       "      <th>Store_Size</th>\n",
       "      <th>Store_Location_Type</th>\n",
       "      <th>Store_Type</th>\n",
       "      <th>sqrt_Item_Price</th>\n",
       "      <th>cross_Item_weight</th>\n",
       "      <th>Cross_Item_visibility_weight</th>\n",
       "    </tr>\n",
       "  </thead>\n",
       "  <tbody>\n",
       "    <tr>\n",
       "      <th>0</th>\n",
       "      <td>DRA59</td>\n",
       "      <td>BABATUNJI010</td>\n",
       "      <td>8.270</td>\n",
       "      <td>Normal Sugar</td>\n",
       "      <td>0.214125</td>\n",
       "      <td>Soft Drinks</td>\n",
       "      <td>459.98</td>\n",
       "      <td>15.0</td>\n",
       "      <td>Medium</td>\n",
       "      <td>Cluster 3</td>\n",
       "      <td>Grocery Store</td>\n",
       "      <td>21.447144</td>\n",
       "      <td>3804.03460</td>\n",
       "      <td>814.539399</td>\n",
       "    </tr>\n",
       "    <tr>\n",
       "      <th>1</th>\n",
       "      <td>DRA59</td>\n",
       "      <td>BABATUNJI013</td>\n",
       "      <td>8.270</td>\n",
       "      <td>Normal Sugar</td>\n",
       "      <td>0.127821</td>\n",
       "      <td>Soft Drinks</td>\n",
       "      <td>464.98</td>\n",
       "      <td>26.0</td>\n",
       "      <td>High</td>\n",
       "      <td>Cluster 3</td>\n",
       "      <td>Supermarket Type1</td>\n",
       "      <td>21.563395</td>\n",
       "      <td>3845.38460</td>\n",
       "      <td>491.522720</td>\n",
       "    </tr>\n",
       "    <tr>\n",
       "      <th>2</th>\n",
       "      <td>DRB01</td>\n",
       "      <td>BABATUNJI013</td>\n",
       "      <td>7.390</td>\n",
       "      <td>Low Sugar</td>\n",
       "      <td>0.082171</td>\n",
       "      <td>Soft Drinks</td>\n",
       "      <td>477.38</td>\n",
       "      <td>26.0</td>\n",
       "      <td>High</td>\n",
       "      <td>Cluster 3</td>\n",
       "      <td>Supermarket Type1</td>\n",
       "      <td>21.849027</td>\n",
       "      <td>3527.83820</td>\n",
       "      <td>289.885806</td>\n",
       "    </tr>\n",
       "    <tr>\n",
       "      <th>3</th>\n",
       "      <td>DRB13</td>\n",
       "      <td>BABATUNJI010</td>\n",
       "      <td>6.115</td>\n",
       "      <td>Normal Sugar</td>\n",
       "      <td>0.011791</td>\n",
       "      <td>Soft Drinks</td>\n",
       "      <td>472.63</td>\n",
       "      <td>15.0</td>\n",
       "      <td>Medium</td>\n",
       "      <td>Cluster 3</td>\n",
       "      <td>Grocery Store</td>\n",
       "      <td>21.740055</td>\n",
       "      <td>2890.13245</td>\n",
       "      <td>34.076916</td>\n",
       "    </tr>\n",
       "    <tr>\n",
       "      <th>4</th>\n",
       "      <td>DRB13</td>\n",
       "      <td>BABATUNJI013</td>\n",
       "      <td>6.115</td>\n",
       "      <td>Normal Sugar</td>\n",
       "      <td>0.007038</td>\n",
       "      <td>Soft Drinks</td>\n",
       "      <td>473.13</td>\n",
       "      <td>26.0</td>\n",
       "      <td>High</td>\n",
       "      <td>Cluster 3</td>\n",
       "      <td>Supermarket Type1</td>\n",
       "      <td>21.751552</td>\n",
       "      <td>2893.18995</td>\n",
       "      <td>20.363654</td>\n",
       "    </tr>\n",
       "  </tbody>\n",
       "</table>\n",
       "</div>"
      ],
      "text/plain": [
       "  Item_ID      Store_ID  Item_Weight Item_Sugar_Content  Item_Visibility  \\\n",
       "0   DRA59  BABATUNJI010        8.270       Normal Sugar         0.214125   \n",
       "1   DRA59  BABATUNJI013        8.270       Normal Sugar         0.127821   \n",
       "2   DRB01  BABATUNJI013        7.390          Low Sugar         0.082171   \n",
       "3   DRB13  BABATUNJI010        6.115       Normal Sugar         0.011791   \n",
       "4   DRB13  BABATUNJI013        6.115       Normal Sugar         0.007038   \n",
       "\n",
       "     Item_Type  Item_Price  Store_Start_Year Store_Size Store_Location_Type  \\\n",
       "0  Soft Drinks      459.98              15.0     Medium           Cluster 3   \n",
       "1  Soft Drinks      464.98              26.0       High           Cluster 3   \n",
       "2  Soft Drinks      477.38              26.0       High           Cluster 3   \n",
       "3  Soft Drinks      472.63              15.0     Medium           Cluster 3   \n",
       "4  Soft Drinks      473.13              26.0       High           Cluster 3   \n",
       "\n",
       "          Store_Type  sqrt_Item_Price  cross_Item_weight  \\\n",
       "0      Grocery Store        21.447144         3804.03460   \n",
       "1  Supermarket Type1        21.563395         3845.38460   \n",
       "2  Supermarket Type1        21.849027         3527.83820   \n",
       "3      Grocery Store        21.740055         2890.13245   \n",
       "4  Supermarket Type1        21.751552         2893.18995   \n",
       "\n",
       "   Cross_Item_visibility_weight  \n",
       "0                    814.539399  \n",
       "1                    491.522720  \n",
       "2                    289.885806  \n",
       "3                     34.076916  \n",
       "4                     20.363654  "
      ]
     },
     "execution_count": 75,
     "metadata": {},
     "output_type": "execute_result"
    }
   ],
   "source": [
    "test.head()"
   ]
  },
  {
   "cell_type": "code",
   "execution_count": 7,
   "metadata": {},
   "outputs": [
    {
     "data": {
      "text/html": [
       "<div>\n",
       "<style scoped>\n",
       "    .dataframe tbody tr th:only-of-type {\n",
       "        vertical-align: middle;\n",
       "    }\n",
       "\n",
       "    .dataframe tbody tr th {\n",
       "        vertical-align: top;\n",
       "    }\n",
       "\n",
       "    .dataframe thead th {\n",
       "        text-align: right;\n",
       "    }\n",
       "</style>\n",
       "<table border=\"1\" class=\"dataframe\">\n",
       "  <thead>\n",
       "    <tr style=\"text-align: right;\">\n",
       "      <th></th>\n",
       "      <th>Item_Store_ID</th>\n",
       "      <th>Item_Store_Returns</th>\n",
       "    </tr>\n",
       "  </thead>\n",
       "  <tbody>\n",
       "    <tr>\n",
       "      <th>0</th>\n",
       "      <td>DRA59_BABATUNJI010</td>\n",
       "      <td>100</td>\n",
       "    </tr>\n",
       "    <tr>\n",
       "      <th>1</th>\n",
       "      <td>DRA59_BABATUNJI013</td>\n",
       "      <td>100</td>\n",
       "    </tr>\n",
       "    <tr>\n",
       "      <th>2</th>\n",
       "      <td>DRB01_BABATUNJI013</td>\n",
       "      <td>100</td>\n",
       "    </tr>\n",
       "    <tr>\n",
       "      <th>3</th>\n",
       "      <td>DRB13_BABATUNJI010</td>\n",
       "      <td>100</td>\n",
       "    </tr>\n",
       "    <tr>\n",
       "      <th>4</th>\n",
       "      <td>DRB13_BABATUNJI013</td>\n",
       "      <td>100</td>\n",
       "    </tr>\n",
       "  </tbody>\n",
       "</table>\n",
       "</div>"
      ],
      "text/plain": [
       "        Item_Store_ID  Item_Store_Returns\n",
       "0  DRA59_BABATUNJI010                 100\n",
       "1  DRA59_BABATUNJI013                 100\n",
       "2  DRB01_BABATUNJI013                 100\n",
       "3  DRB13_BABATUNJI010                 100\n",
       "4  DRB13_BABATUNJI013                 100"
      ]
     },
     "execution_count": 7,
     "metadata": {},
     "output_type": "execute_result"
    }
   ],
   "source": [
    "sol.head()"
   ]
  },
  {
   "cell_type": "code",
   "execution_count": 8,
   "metadata": {},
   "outputs": [
    {
     "data": {
      "text/plain": [
       "(3532, 2)"
      ]
     },
     "execution_count": 8,
     "metadata": {},
     "output_type": "execute_result"
    }
   ],
   "source": [
    "sol.shape"
   ]
  },
  {
   "cell_type": "code",
   "execution_count": 10,
   "metadata": {},
   "outputs": [],
   "source": [
    "submit = test[['Item_Store_ID']]"
   ]
  },
  {
   "cell_type": "code",
   "execution_count": 12,
   "metadata": {},
   "outputs": [
    {
     "data": {
      "text/plain": [
       "(3532, 1)"
      ]
     },
     "execution_count": 12,
     "metadata": {},
     "output_type": "execute_result"
    }
   ],
   "source": [
    "submit.shape"
   ]
  },
  {
   "cell_type": "code",
   "execution_count": 15,
   "metadata": {},
   "outputs": [
    {
     "name": "stdout",
     "output_type": "stream",
     "text": [
      "4990\n",
      "3532\n"
     ]
    }
   ],
   "source": [
    "print(train['Item_Store_ID'].nunique())\n",
    "print(test['Item_Store_ID'].nunique())"
   ]
  },
  {
   "cell_type": "code",
   "execution_count": 16,
   "metadata": {},
   "outputs": [],
   "source": [
    "train.drop('Item_Store_ID', axis = 1, inplace = True)\n",
    "test.drop('Item_Store_ID', axis = 1, inplace = True)"
   ]
  },
  {
   "cell_type": "code",
   "execution_count": 20,
   "metadata": {},
   "outputs": [
    {
     "data": {
      "text/plain": [
       "<matplotlib.axes._subplots.AxesSubplot at 0x1ccd3915448>"
      ]
     },
     "execution_count": 20,
     "metadata": {},
     "output_type": "execute_result"
    },
    {
     "data": {
      "image/png": "[encoded data removed]",
      "text/plain": [
       "<Figure size 432x288 with 1 Axes>"
      ]
     },
     "metadata": {
      "needs_background": "light"
     },
     "output_type": "display_data"
    }
   ],
   "source": [
    "train['Item_Store_Returns'].hist()"
   ]
  },
  {
   "cell_type": "code",
   "execution_count": 21,
   "metadata": {
    "scrolled": true
   },
   "outputs": [
    {
     "data": {
      "text/plain": [
       "<matplotlib.axes._subplots.AxesSubplot at 0x1ccd392c948>"
      ]
     },
     "execution_count": 21,
     "metadata": {},
     "output_type": "execute_result"
    },
    {
     "data": {
      "image/png": "[encoded data removed]",
      "text/plain": [
       "<Figure size 432x288 with 1 Axes>"
      ]
     },
     "metadata": {
      "needs_background": "light"
     },
     "output_type": "display_data"
    }
   ],
   "source": [
    "sns.distplot(train['Item_Store_Returns'])"
   ]
  },
  {
   "cell_type": "code",
   "execution_count": 30,
   "metadata": {},
   "outputs": [],
   "source": [
    "train['Item_Store_Returns'] = np.log1p(train['Item_Store_Returns'])"
   ]
  },
  {
   "cell_type": "code",
   "execution_count": 29,
   "metadata": {},
   "outputs": [],
   "source": [
    "# sns.distplot(np.exp(np.log1p(train['Item_Store_Returns'])))"
   ]
  },
  {
   "cell_type": "code",
   "execution_count": 73,
   "metadata": {},
   "outputs": [
    {
     "name": "stdout",
     "output_type": "stream",
     "text": [
      "<class 'pandas.core.frame.DataFrame'>\n",
      "RangeIndex: 4990 entries, 0 to 4989\n",
      "Data columns (total 15 columns):\n",
      " #   Column                        Non-Null Count  Dtype  \n",
      "---  ------                        --------------  -----  \n",
      " 0   Item_ID                       4990 non-null   object \n",
      " 1   Store_ID                      4990 non-null   object \n",
      " 2   Item_Weight                   4990 non-null   float64\n",
      " 3   Item_Sugar_Content            4990 non-null   object \n",
      " 4   Item_Visibility               4990 non-null   float64\n",
      " 5   Item_Type                     4990 non-null   object \n",
      " 6   Item_Price                    4990 non-null   float64\n",
      " 7   Store_Start_Year              4990 non-null   float64\n",
      " 8   Store_Size                    4990 non-null   object \n",
      " 9   Store_Location_Type           4990 non-null   object \n",
      " 10  Store_Type                    4990 non-null   object \n",
      " 11  Item_Store_Returns            4990 non-null   float64\n",
      " 12  sqrt_Item_Price               4990 non-null   float64\n",
      " 13  cross_Item_weight             4990 non-null   float64\n",
      " 14  Cross_Item_visibility_weight  4990 non-null   float64\n",
      "dtypes: float64(8), object(7)\n",
      "memory usage: 584.9+ KB\n"
     ]
    }
   ],
   "source": [
    "train.info()"
   ]
  },
  {
   "cell_type": "code",
   "execution_count": 33,
   "metadata": {},
   "outputs": [
    {
     "name": "stdout",
     "output_type": "stream",
     "text": [
      "<class 'pandas.core.frame.DataFrame'>\n",
      "RangeIndex: 3532 entries, 0 to 3531\n",
      "Data columns (total 11 columns):\n",
      " #   Column               Non-Null Count  Dtype  \n",
      "---  ------               --------------  -----  \n",
      " 0   Item_ID              3532 non-null   object \n",
      " 1   Store_ID             3532 non-null   object \n",
      " 2   Item_Weight          2871 non-null   float64\n",
      " 3   Item_Sugar_Content   3532 non-null   object \n",
      " 4   Item_Visibility      3532 non-null   float64\n",
      " 5   Item_Type            3532 non-null   object \n",
      " 6   Item_Price           3532 non-null   float64\n",
      " 7   Store_Start_Year     3532 non-null   int64  \n",
      " 8   Store_Size           2573 non-null   object \n",
      " 9   Store_Location_Type  3532 non-null   object \n",
      " 10  Store_Type           3532 non-null   object \n",
      "dtypes: float64(3), int64(1), object(7)\n",
      "memory usage: 303.7+ KB\n"
     ]
    }
   ],
   "source": [
    "test.info()"
   ]
  },
  {
   "cell_type": "markdown",
   "metadata": {},
   "source": [
    "### Replacing Missing values"
   ]
  },
  {
   "cell_type": "code",
   "execution_count": 40,
   "metadata": {},
   "outputs": [],
   "source": [
    "train['Item_Weight'].fillna(train['Item_Weight'].mean(), inplace = True)\n",
    "test['Item_Weight'].fillna(test['Item_Weight'].mean(), inplace = True)"
   ]
  },
  {
   "cell_type": "code",
   "execution_count": 46,
   "metadata": {},
   "outputs": [
    {
     "data": {
      "text/plain": [
       "Medium    1582\n",
       "Small     1364\n",
       "High       594\n",
       "Name: Store_Size, dtype: int64"
      ]
     },
     "execution_count": 46,
     "metadata": {},
     "output_type": "execute_result"
    }
   ],
   "source": [
    "train['Store_Size'].value_counts()"
   ]
  },
  {
   "cell_type": "code",
   "execution_count": 45,
   "metadata": {
    "collapsed": true
   },
   "outputs": [
    {
     "data": {
      "text/plain": [
       "Medium    1211\n",
       "Small     1024\n",
       "High       338\n",
       "Name: Store_Size, dtype: int64"
      ]
     },
     "execution_count": 45,
     "metadata": {},
     "output_type": "execute_result"
    }
   ],
   "source": [
    "test['Store_Size'].value_counts()"
   ]
  },
  {
   "cell_type": "code",
   "execution_count": 50,
   "metadata": {},
   "outputs": [],
   "source": [
    "train['Store_Size'].fillna(train['Store_Size'].mode()[0], inplace = True)\n",
    "test['Store_Size'].fillna(test['Store_Size'].mode()[0], inplace = True)"
   ]
  },
  {
   "cell_type": "code",
   "execution_count": 54,
   "metadata": {},
   "outputs": [],
   "source": [
    "from datetime import datetime as dt"
   ]
  },
  {
   "cell_type": "code",
   "execution_count": 59,
   "metadata": {},
   "outputs": [],
   "source": [
    "train['Store_Start_Year'] = dt.today().year - train['Store_Start_Year']\n",
    "test['Store_Start_Year'] = dt.today().year - test['Store_Start_Year']"
   ]
  },
  {
   "cell_type": "code",
   "execution_count": 84,
   "metadata": {},
   "outputs": [],
   "source": [
    "train['Store_Start_Year'] = train['Store_Start_Year'].astype('float')\n",
    "test['Store_Start_Year'] = test['Store_Start_Year'].astype('float')"
   ]
  },
  {
   "cell_type": "code",
   "execution_count": 68,
   "metadata": {},
   "outputs": [
    {
     "data": {
      "text/plain": [
       "<matplotlib.axes._subplots.AxesSubplot at 0x1ccd3f15148>"
      ]
     },
     "execution_count": 68,
     "metadata": {},
     "output_type": "execute_result"
    },
    {
     "data": {
      "image/png": "[encoded data removed]",
      "text/plain": [
       "<Figure size 432x288 with 2 Axes>"
      ]
     },
     "metadata": {
      "needs_background": "light"
     },
     "output_type": "display_data"
    }
   ],
   "source": [
    "# sns.heatmap(train.corr(), annot = True)"
   ]
  },
  {
   "cell_type": "code",
   "execution_count": 67,
   "metadata": {},
   "outputs": [],
   "source": [
    "train['sqrt_Item_Price'] = np.sqrt(train['Item_Price'])\n",
    "test['sqrt_Item_Price'] = np.sqrt(test['Item_Price'])\n",
    "\n",
    "\n",
    "train['cross_Item_weight'] = train['Item_Price'] * train['Item_Weight']\n",
    "test['cross_Item_weight'] = test['Item_Price'] * test['Item_Weight']\n",
    "\n",
    "train['Cross_Item_visibility_weight'] = train['Item_Price'] * train['Item_Weight'] * train['Item_Visibility']\n",
    "test['Cross_Item_visibility_weight'] = test['Item_Price'] * test['Item_Weight'] * test['Item_Visibility']"
   ]
  },
  {
   "cell_type": "code",
   "execution_count": 85,
   "metadata": {},
   "outputs": [],
   "source": [
    "data = train.drop('Item_Store_Returns', axis = 1)\n",
    "target = train['Item_Store_Returns']"
   ]
  },
  {
   "cell_type": "code",
   "execution_count": 86,
   "metadata": {},
   "outputs": [
    {
     "name": "stdout",
     "output_type": "stream",
     "text": [
      "(4990, 14)\n",
      "(4990,)\n"
     ]
    }
   ],
   "source": [
    "print(data.shape)\n",
    "print(target.shape)"
   ]
  },
  {
   "cell_type": "code",
   "execution_count": 87,
   "metadata": {},
   "outputs": [
    {
     "data": {
      "text/plain": [
       "1451"
      ]
     },
     "execution_count": 87,
     "metadata": {},
     "output_type": "execute_result"
    }
   ],
   "source": [
    "data['Item_ID'].nunique()"
   ]
  },
  {
   "cell_type": "code",
   "execution_count": 88,
   "metadata": {},
   "outputs": [
    {
     "data": {
      "text/plain": [
       "10"
      ]
     },
     "execution_count": 88,
     "metadata": {},
     "output_type": "execute_result"
    }
   ],
   "source": [
    "data['Store_ID'].nunique()"
   ]
  },
  {
   "cell_type": "code",
   "execution_count": 89,
   "metadata": {},
   "outputs": [],
   "source": [
    "cat_var = np.where(data.dtypes != np.float)[0]"
   ]
  },
  {
   "cell_type": "code",
   "execution_count": 90,
   "metadata": {},
   "outputs": [
    {
     "data": {
      "text/plain": [
       "array([ 0,  1,  3,  5,  8,  9, 10], dtype=int64)"
      ]
     },
     "execution_count": 90,
     "metadata": {},
     "output_type": "execute_result"
    }
   ],
   "source": [
    "cat_var"
   ]
  },
  {
   "cell_type": "code",
   "execution_count": 93,
   "metadata": {},
   "outputs": [],
   "source": [
    "from sklearn. model_selection import train_test_split"
   ]
  },
  {
   "cell_type": "code",
   "execution_count": 94,
   "metadata": {},
   "outputs": [],
   "source": [
    "X_train, X_test, y_train, y_test = train_test_split(data, target, test_size= 0.2, random_state=42)"
   ]
  },
  {
   "cell_type": "code",
   "execution_count": 95,
   "metadata": {},
   "outputs": [
    {
     "name": "stdout",
     "output_type": "stream",
     "text": [
      "0:\tlearn: 0.9683601\ttest: 0.9302438\tbest: 0.9302438 (0)\ttotal: 253ms\tremaining: 12.4s\n",
      "1:\tlearn: 0.9069113\ttest: 0.8740748\tbest: 0.8740748 (1)\ttotal: 292ms\tremaining: 7.02s\n",
      "2:\tlearn: 0.8535017\ttest: 0.8256643\tbest: 0.8256643 (2)\ttotal: 298ms\tremaining: 4.67s\n",
      "3:\tlearn: 0.8087234\ttest: 0.7845681\tbest: 0.7845681 (3)\ttotal: 306ms\tremaining: 3.51s\n",
      "4:\tlearn: 0.7689635\ttest: 0.7488692\tbest: 0.7488692 (4)\ttotal: 309ms\tremaining: 2.78s\n",
      "5:\tlearn: 0.7352322\ttest: 0.7181864\tbest: 0.7181864 (5)\ttotal: 335ms\tremaining: 2.45s\n",
      "6:\tlearn: 0.7060298\ttest: 0.6914432\tbest: 0.6914432 (6)\ttotal: 339ms\tremaining: 2.08s\n",
      "7:\tlearn: 0.6785201\ttest: 0.6673418\tbest: 0.6673418 (7)\ttotal: 343ms\tremaining: 1.8s\n",
      "8:\tlearn: 0.6577959\ttest: 0.6482920\tbest: 0.6482920 (8)\ttotal: 347ms\tremaining: 1.58s\n",
      "9:\tlearn: 0.6387794\ttest: 0.6322988\tbest: 0.6322988 (9)\ttotal: 351ms\tremaining: 1.4s\n",
      "10:\tlearn: 0.6228595\ttest: 0.6188659\tbest: 0.6188659 (10)\ttotal: 354ms\tremaining: 1.26s\n",
      "11:\tlearn: 0.6092506\ttest: 0.6070421\tbest: 0.6070421 (11)\ttotal: 359ms\tremaining: 1.14s\n",
      "12:\tlearn: 0.5964455\ttest: 0.5960122\tbest: 0.5960122 (12)\ttotal: 362ms\tremaining: 1.03s\n",
      "13:\tlearn: 0.5867789\ttest: 0.5876193\tbest: 0.5876193 (13)\ttotal: 366ms\tremaining: 941ms\n",
      "14:\tlearn: 0.5780250\ttest: 0.5802522\tbest: 0.5802522 (14)\ttotal: 370ms\tremaining: 862ms\n",
      "15:\tlearn: 0.5693592\ttest: 0.5725374\tbest: 0.5725374 (15)\ttotal: 404ms\tremaining: 858ms\n",
      "16:\tlearn: 0.5616813\ttest: 0.5661345\tbest: 0.5661345 (16)\ttotal: 407ms\tremaining: 790ms\n",
      "17:\tlearn: 0.5559461\ttest: 0.5611782\tbest: 0.5611782 (17)\ttotal: 411ms\tremaining: 730ms\n",
      "18:\tlearn: 0.5508317\ttest: 0.5567827\tbest: 0.5567827 (18)\ttotal: 414ms\tremaining: 676ms\n",
      "19:\tlearn: 0.5469245\ttest: 0.5536235\tbest: 0.5536235 (19)\ttotal: 421ms\tremaining: 631ms\n",
      "20:\tlearn: 0.5440601\ttest: 0.5511759\tbest: 0.5511759 (20)\ttotal: 424ms\tremaining: 586ms\n",
      "21:\tlearn: 0.5409411\ttest: 0.5487770\tbest: 0.5487770 (21)\ttotal: 430ms\tremaining: 548ms\n",
      "22:\tlearn: 0.5388505\ttest: 0.5470704\tbest: 0.5470704 (22)\ttotal: 436ms\tremaining: 512ms\n",
      "23:\tlearn: 0.5366833\ttest: 0.5457132\tbest: 0.5457132 (23)\ttotal: 443ms\tremaining: 480ms\n",
      "24:\tlearn: 0.5343512\ttest: 0.5436755\tbest: 0.5436755 (24)\ttotal: 448ms\tremaining: 448ms\n",
      "25:\tlearn: 0.5330568\ttest: 0.5427716\tbest: 0.5427716 (25)\ttotal: 453ms\tremaining: 418ms\n",
      "26:\tlearn: 0.5314985\ttest: 0.5415688\tbest: 0.5415688 (26)\ttotal: 459ms\tremaining: 391ms\n",
      "27:\tlearn: 0.5302244\ttest: 0.5405992\tbest: 0.5405992 (27)\ttotal: 464ms\tremaining: 365ms\n",
      "28:\tlearn: 0.5290404\ttest: 0.5393997\tbest: 0.5393997 (28)\ttotal: 468ms\tremaining: 339ms\n",
      "29:\tlearn: 0.5279996\ttest: 0.5386468\tbest: 0.5386468 (29)\ttotal: 471ms\tremaining: 314ms\n",
      "30:\tlearn: 0.5268648\ttest: 0.5377986\tbest: 0.5377986 (30)\ttotal: 475ms\tremaining: 291ms\n",
      "31:\tlearn: 0.5260070\ttest: 0.5372122\tbest: 0.5372122 (31)\ttotal: 479ms\tremaining: 269ms\n",
      "32:\tlearn: 0.5251461\ttest: 0.5365401\tbest: 0.5365401 (32)\ttotal: 484ms\tremaining: 249ms\n",
      "33:\tlearn: 0.5244050\ttest: 0.5358078\tbest: 0.5358078 (33)\ttotal: 487ms\tremaining: 229ms\n",
      "34:\tlearn: 0.5241143\ttest: 0.5357451\tbest: 0.5357451 (34)\ttotal: 490ms\tremaining: 210ms\n",
      "35:\tlearn: 0.5239413\ttest: 0.5356224\tbest: 0.5356224 (35)\ttotal: 495ms\tremaining: 193ms\n",
      "36:\tlearn: 0.5235150\ttest: 0.5353451\tbest: 0.5353451 (36)\ttotal: 499ms\tremaining: 175ms\n",
      "37:\tlearn: 0.5231608\ttest: 0.5349287\tbest: 0.5349287 (37)\ttotal: 503ms\tremaining: 159ms\n",
      "38:\tlearn: 0.5228145\ttest: 0.5347479\tbest: 0.5347479 (38)\ttotal: 506ms\tremaining: 143ms\n",
      "39:\tlearn: 0.5224264\ttest: 0.5345074\tbest: 0.5345074 (39)\ttotal: 510ms\tremaining: 127ms\n",
      "40:\tlearn: 0.5219295\ttest: 0.5342858\tbest: 0.5342858 (40)\ttotal: 513ms\tremaining: 113ms\n",
      "41:\tlearn: 0.5216585\ttest: 0.5341561\tbest: 0.5341561 (41)\ttotal: 516ms\tremaining: 98.4ms\n",
      "42:\tlearn: 0.5213982\ttest: 0.5339091\tbest: 0.5339091 (42)\ttotal: 520ms\tremaining: 84.6ms\n",
      "43:\tlearn: 0.5212018\ttest: 0.5337095\tbest: 0.5337095 (43)\ttotal: 523ms\tremaining: 71.3ms\n",
      "44:\tlearn: 0.5209239\ttest: 0.5337327\tbest: 0.5337095 (43)\ttotal: 526ms\tremaining: 58.5ms\n",
      "45:\tlearn: 0.5207397\ttest: 0.5334647\tbest: 0.5334647 (45)\ttotal: 530ms\tremaining: 46ms\n",
      "46:\tlearn: 0.5205606\ttest: 0.5333798\tbest: 0.5333798 (46)\ttotal: 533ms\tremaining: 34ms\n",
      "47:\tlearn: 0.5202079\ttest: 0.5331768\tbest: 0.5331768 (47)\ttotal: 537ms\tremaining: 22.4ms\n",
      "48:\tlearn: 0.5201404\ttest: 0.5331582\tbest: 0.5331582 (48)\ttotal: 540ms\tremaining: 11ms\n",
      "49:\tlearn: 0.5198990\ttest: 0.5331932\tbest: 0.5331582 (48)\ttotal: 543ms\tremaining: 0us\n",
      "\n",
      "bestTest = 0.5331582011\n",
      "bestIteration = 48\n",
      "\n",
      "Shrink model to first 49 iterations.\n"
     ]
    },
    {
     "data": {
      "text/plain": [
       "<catboost.core.CatBoostRegressor at 0x1ccd53e7a08>"
      ]
     },
     "execution_count": 95,
     "metadata": {},
     "output_type": "execute_result"
    }
   ],
   "source": [
    "cat2 = CatBoostRegressor(iterations = 50, depth = 3, learning_rate = 0.1, loss_function = 'RMSE')\n",
    "cat2.fit(X_train, y_train,cat_features = cat_var,eval_set = (X_test, y_test))"
   ]
  },
  {
   "cell_type": "code",
   "execution_count": null,
   "metadata": {},
   "outputs": [],
   "source": []
  },
  {
   "cell_type": "code",
   "execution_count": 97,
   "metadata": {},
   "outputs": [
    {
     "name": "stdout",
     "output_type": "stream",
     "text": [
      "TRAINING R2_Score: 0.750\n",
      "TRAINING RMSE: 0.519\n",
      "TESTING R2_Score: 0.712\n",
      "TESTING RMSE: 0.533\n"
     ]
    }
   ],
   "source": [
    "pred22 = cat2.predict(X_test)\n",
    "pred21 = cat2.predict(X_train)\n",
    "print('TRAINING R2_Score: %.3f' % r2_score(y_train, pred21))\n",
    "print('TRAINING RMSE: %.3f' % np.sqrt(mse(y_train, pred21)))\n",
    "print('TESTING R2_Score: %.3f' % r2_score(y_test, pred22))\n",
    "print('TESTING RMSE: %.3f' % np.sqrt(mse(y_test, pred22)))"
   ]
  },
  {
   "cell_type": "code",
   "execution_count": 98,
   "metadata": {},
   "outputs": [],
   "source": [
    "cols = data.columns"
   ]
  },
  {
   "cell_type": "code",
   "execution_count": 99,
   "metadata": {},
   "outputs": [
    {
     "data": {
      "text/plain": [
       "Item_ID                          0.000000\n",
       "Store_ID                        29.667260\n",
       "Item_Weight                      0.050069\n",
       "Item_Sugar_Content               0.027175\n",
       "Item_Visibility                  0.006530\n",
       "Item_Type                        0.026166\n",
       "Item_Price                       9.023068\n",
       "Store_Start_Year                 1.207494\n",
       "Store_Size                       0.014522\n",
       "Store_Location_Type              0.661179\n",
       "Store_Type                      49.845373\n",
       "sqrt_Item_Price                  7.762914\n",
       "cross_Item_weight                1.708250\n",
       "Cross_Item_visibility_weight     0.000000\n",
       "dtype: float64"
      ]
     },
     "execution_count": 99,
     "metadata": {},
     "output_type": "execute_result"
    }
   ],
   "source": [
    "feat_import = pd.Series(cat2.feature_importances_, index = data.columns)\n",
    "feat_import"
   ]
  },
  {
   "cell_type": "code",
   "execution_count": 100,
   "metadata": {},
   "outputs": [
    {
     "data": {
      "text/plain": [
       "<matplotlib.axes._subplots.AxesSubplot at 0x1ccd552cc48>"
      ]
     },
     "execution_count": 100,
     "metadata": {},
     "output_type": "execute_result"
    },
    {
     "data": {
      "image/png": "[encoded data removed]",
      "text/plain": [
       "<Figure size 432x288 with 1 Axes>"
      ]
     },
     "metadata": {
      "needs_background": "light"
     },
     "output_type": "display_data"
    }
   ],
   "source": [
    "feat_import = pd.Series(cat2.feature_importances_, index = data.columns)\n",
    "feat_import.sort_values(ascending = True).nlargest(20).plot(kind = 'barh')"
   ]
  },
  {
   "cell_type": "code",
   "execution_count": 101,
   "metadata": {},
   "outputs": [],
   "source": [
    "data2 = data.drop(['Item_ID', 'Cross_Item_visibility_weight', 'Item_Visibility'], axis = 1)"
   ]
  },
  {
   "cell_type": "code",
   "execution_count": 103,
   "metadata": {},
   "outputs": [],
   "source": [
    "cat_var2 = np.where(data2.dtypes != np.float)[0]"
   ]
  },
  {
   "cell_type": "code",
   "execution_count": 104,
   "metadata": {},
   "outputs": [],
   "source": [
    "X_train, X_test, y_train, y_test = train_test_split(data2, target, test_size= 0.2, random_state=42)"
   ]
  },
  {
   "cell_type": "code",
   "execution_count": 105,
   "metadata": {},
   "outputs": [
    {
     "name": "stdout",
     "output_type": "stream",
     "text": [
      "0:\tlearn: 0.9696228\ttest: 0.9289714\tbest: 0.9289714 (0)\ttotal: 7.96ms\tremaining: 390ms\n",
      "1:\tlearn: 0.9085971\ttest: 0.8725840\tbest: 0.8725840 (1)\ttotal: 14.7ms\tremaining: 354ms\n",
      "2:\tlearn: 0.8554448\ttest: 0.8246595\tbest: 0.8246595 (2)\ttotal: 21.5ms\tremaining: 337ms\n",
      "3:\tlearn: 0.8106087\ttest: 0.7832024\tbest: 0.7832024 (3)\ttotal: 24.8ms\tremaining: 285ms\n",
      "4:\tlearn: 0.7703947\ttest: 0.7466954\tbest: 0.7466954 (4)\ttotal: 28.3ms\tremaining: 255ms\n",
      "5:\tlearn: 0.7361276\ttest: 0.7159519\tbest: 0.7159519 (5)\ttotal: 31.9ms\tremaining: 234ms\n",
      "6:\tlearn: 0.7055817\ttest: 0.6881725\tbest: 0.6881725 (6)\ttotal: 35.6ms\tremaining: 219ms\n",
      "7:\tlearn: 0.6787490\ttest: 0.6643694\tbest: 0.6643694 (7)\ttotal: 39ms\tremaining: 205ms\n",
      "8:\tlearn: 0.6566192\ttest: 0.6443192\tbest: 0.6443192 (8)\ttotal: 42.4ms\tremaining: 193ms\n",
      "9:\tlearn: 0.6360603\ttest: 0.6257656\tbest: 0.6257656 (9)\ttotal: 45.8ms\tremaining: 183ms\n",
      "10:\tlearn: 0.6187496\ttest: 0.6103184\tbest: 0.6103184 (10)\ttotal: 49.3ms\tremaining: 175ms\n",
      "11:\tlearn: 0.6059144\ttest: 0.5991551\tbest: 0.5991551 (11)\ttotal: 53ms\tremaining: 168ms\n",
      "12:\tlearn: 0.5941704\ttest: 0.5886104\tbest: 0.5886104 (12)\ttotal: 56.4ms\tremaining: 160ms\n",
      "13:\tlearn: 0.5832956\ttest: 0.5792578\tbest: 0.5792578 (13)\ttotal: 59.8ms\tremaining: 154ms\n",
      "14:\tlearn: 0.5751919\ttest: 0.5722788\tbest: 0.5722788 (14)\ttotal: 63.2ms\tremaining: 148ms\n",
      "15:\tlearn: 0.5675673\ttest: 0.5660139\tbest: 0.5660139 (15)\ttotal: 66.3ms\tremaining: 141ms\n",
      "16:\tlearn: 0.5616984\ttest: 0.5609898\tbest: 0.5609898 (16)\ttotal: 69.5ms\tremaining: 135ms\n",
      "17:\tlearn: 0.5562530\ttest: 0.5564986\tbest: 0.5564986 (17)\ttotal: 72.5ms\tremaining: 129ms\n",
      "18:\tlearn: 0.5520590\ttest: 0.5530657\tbest: 0.5530657 (18)\ttotal: 75.7ms\tremaining: 123ms\n",
      "19:\tlearn: 0.5484689\ttest: 0.5500491\tbest: 0.5500491 (19)\ttotal: 78.8ms\tremaining: 118ms\n",
      "20:\tlearn: 0.5445310\ttest: 0.5464928\tbest: 0.5464928 (20)\ttotal: 81.8ms\tremaining: 113ms\n",
      "21:\tlearn: 0.5419423\ttest: 0.5446386\tbest: 0.5446386 (21)\ttotal: 84.8ms\tremaining: 108ms\n",
      "22:\tlearn: 0.5394859\ttest: 0.5426615\tbest: 0.5426615 (22)\ttotal: 125ms\tremaining: 146ms\n",
      "23:\tlearn: 0.5368147\ttest: 0.5403414\tbest: 0.5403414 (23)\ttotal: 128ms\tremaining: 139ms\n",
      "24:\tlearn: 0.5353517\ttest: 0.5390393\tbest: 0.5390393 (24)\ttotal: 131ms\tremaining: 131ms\n",
      "25:\tlearn: 0.5340251\ttest: 0.5383461\tbest: 0.5383461 (25)\ttotal: 135ms\tremaining: 124ms\n",
      "26:\tlearn: 0.5326491\ttest: 0.5373972\tbest: 0.5373972 (26)\ttotal: 139ms\tremaining: 118ms\n",
      "27:\tlearn: 0.5312139\ttest: 0.5362724\tbest: 0.5362724 (27)\ttotal: 142ms\tremaining: 111ms\n",
      "28:\tlearn: 0.5297936\ttest: 0.5350850\tbest: 0.5350850 (28)\ttotal: 145ms\tremaining: 105ms\n",
      "29:\tlearn: 0.5286617\ttest: 0.5345282\tbest: 0.5345282 (29)\ttotal: 148ms\tremaining: 98.8ms\n",
      "30:\tlearn: 0.5278489\ttest: 0.5339301\tbest: 0.5339301 (30)\ttotal: 151ms\tremaining: 92.7ms\n",
      "31:\tlearn: 0.5271250\ttest: 0.5333351\tbest: 0.5333351 (31)\ttotal: 154ms\tremaining: 86.9ms\n",
      "32:\tlearn: 0.5265183\ttest: 0.5329526\tbest: 0.5329526 (32)\ttotal: 158ms\tremaining: 81.2ms\n",
      "33:\tlearn: 0.5258848\ttest: 0.5324960\tbest: 0.5324960 (33)\ttotal: 161ms\tremaining: 75.7ms\n",
      "34:\tlearn: 0.5253334\ttest: 0.5322826\tbest: 0.5322826 (34)\ttotal: 164ms\tremaining: 70.3ms\n",
      "35:\tlearn: 0.5248304\ttest: 0.5319072\tbest: 0.5319072 (35)\ttotal: 168ms\tremaining: 65.2ms\n",
      "36:\tlearn: 0.5244842\ttest: 0.5317962\tbest: 0.5317962 (36)\ttotal: 172ms\tremaining: 60.3ms\n",
      "37:\tlearn: 0.5241119\ttest: 0.5315624\tbest: 0.5315624 (37)\ttotal: 176ms\tremaining: 55.5ms\n",
      "38:\tlearn: 0.5238433\ttest: 0.5316770\tbest: 0.5315624 (37)\ttotal: 180ms\tremaining: 50.8ms\n",
      "39:\tlearn: 0.5234864\ttest: 0.5317058\tbest: 0.5315624 (37)\ttotal: 184ms\tremaining: 46ms\n",
      "40:\tlearn: 0.5232166\ttest: 0.5315097\tbest: 0.5315097 (40)\ttotal: 189ms\tremaining: 41.4ms\n",
      "41:\tlearn: 0.5229627\ttest: 0.5313351\tbest: 0.5313351 (41)\ttotal: 192ms\tremaining: 36.6ms\n",
      "42:\tlearn: 0.5228028\ttest: 0.5312362\tbest: 0.5312362 (42)\ttotal: 198ms\tremaining: 32.2ms\n",
      "43:\tlearn: 0.5226930\ttest: 0.5312524\tbest: 0.5312362 (42)\ttotal: 203ms\tremaining: 27.6ms\n",
      "44:\tlearn: 0.5225280\ttest: 0.5311380\tbest: 0.5311380 (44)\ttotal: 207ms\tremaining: 23ms\n",
      "45:\tlearn: 0.5223150\ttest: 0.5312023\tbest: 0.5311380 (44)\ttotal: 212ms\tremaining: 18.4ms\n",
      "46:\tlearn: 0.5221639\ttest: 0.5311610\tbest: 0.5311380 (44)\ttotal: 215ms\tremaining: 13.7ms\n",
      "47:\tlearn: 0.5221639\ttest: 0.5311606\tbest: 0.5311380 (44)\ttotal: 218ms\tremaining: 9.09ms\n",
      "48:\tlearn: 0.5219408\ttest: 0.5309282\tbest: 0.5309282 (48)\ttotal: 223ms\tremaining: 4.56ms\n",
      "49:\tlearn: 0.5219030\ttest: 0.5309250\tbest: 0.5309250 (49)\ttotal: 227ms\tremaining: 0us\n",
      "\n",
      "bestTest = 0.5309250437\n",
      "bestIteration = 49\n",
      "\n"
     ]
    },
    {
     "data": {
      "text/plain": [
       "<catboost.core.CatBoostRegressor at 0x1ccd53e1788>"
      ]
     },
     "execution_count": 105,
     "metadata": {},
     "output_type": "execute_result"
    }
   ],
   "source": [
    "cat3 = CatBoostRegressor(iterations = 50, depth = 3, learning_rate = 0.1, loss_function = 'RMSE')\n",
    "cat3.fit(X_train, y_train, cat_features = cat_var2, eval_set = (X_test, y_test))"
   ]
  },
  {
   "cell_type": "code",
   "execution_count": 106,
   "metadata": {},
   "outputs": [
    {
     "name": "stdout",
     "output_type": "stream",
     "text": [
      "TRAINING R2_Score: 0.750\n",
      "TRAINING RMSE: 0.519\n",
      "TESTING R2_Score: 0.715\n",
      "TESTING RMSE: 0.531\n"
     ]
    }
   ],
   "source": [
    "pred32 = cat3.predict(X_test)\n",
    "pred31 = cat3.predict(X_train)\n",
    "print('TRAINING R2_Score: %.3f' % r2_score(y_train, pred31))\n",
    "print('TRAINING RMSE: %.3f' % np.sqrt(mse(y_train, pred31)))\n",
    "print('TESTING R2_Score: %.3f' % r2_score(y_test, pred32))\n",
    "print('TESTING RMSE: %.3f' % np.sqrt(mse(y_test, pred32)))"
   ]
  },
  {
   "cell_type": "code",
   "execution_count": 110,
   "metadata": {},
   "outputs": [],
   "source": [
    "test2 = test.drop(['Item_ID', 'Cross_Item_visibility_weight', 'Item_Visibility'], axis = 1)"
   ]
  },
  {
   "cell_type": "code",
   "execution_count": 111,
   "metadata": {},
   "outputs": [
    {
     "name": "stdout",
     "output_type": "stream",
     "text": [
      "(4990, 11)\n",
      "(3532, 11)\n"
     ]
    }
   ],
   "source": [
    "print(data2.shape)\n",
    "print(test2.shape)"
   ]
  },
  {
   "cell_type": "code",
   "execution_count": 113,
   "metadata": {},
   "outputs": [
    {
     "name": "stdout",
     "output_type": "stream",
     "text": [
      "0:\tlearn: 0.9603708\ttest: 0.9602590\tbest: 0.9602590 (0)\ttotal: 11.1ms\tremaining: 544ms\n",
      "1:\tlearn: 0.9005045\ttest: 0.9001374\tbest: 0.9001374 (1)\ttotal: 19.5ms\tremaining: 468ms\n",
      "2:\tlearn: 0.8495557\ttest: 0.8490325\tbest: 0.8490325 (2)\ttotal: 23.3ms\tremaining: 365ms\n",
      "3:\tlearn: 0.8039366\ttest: 0.8032890\tbest: 0.8032890 (3)\ttotal: 32.7ms\tremaining: 376ms\n",
      "4:\tlearn: 0.7637925\ttest: 0.7630290\tbest: 0.7630290 (4)\ttotal: 38ms\tremaining: 342ms\n",
      "5:\tlearn: 0.7295277\ttest: 0.7287394\tbest: 0.7287394 (5)\ttotal: 42ms\tremaining: 308ms\n",
      "6:\tlearn: 0.6987569\ttest: 0.6979180\tbest: 0.6979180 (6)\ttotal: 46ms\tremaining: 282ms\n",
      "7:\tlearn: 0.6731959\ttest: 0.6722703\tbest: 0.6722703 (7)\ttotal: 50.1ms\tremaining: 263ms\n",
      "8:\tlearn: 0.6509796\ttest: 0.6499967\tbest: 0.6499967 (8)\ttotal: 53.7ms\tremaining: 245ms\n",
      "9:\tlearn: 0.6314121\ttest: 0.6303962\tbest: 0.6303962 (9)\ttotal: 57.6ms\tremaining: 230ms\n",
      "10:\tlearn: 0.6164261\ttest: 0.6153663\tbest: 0.6153663 (10)\ttotal: 61.1ms\tremaining: 217ms\n",
      "11:\tlearn: 0.6028659\ttest: 0.6017759\tbest: 0.6017759 (11)\ttotal: 64.8ms\tremaining: 205ms\n",
      "12:\tlearn: 0.5917454\ttest: 0.5906129\tbest: 0.5906129 (12)\ttotal: 79.1ms\tremaining: 225ms\n",
      "13:\tlearn: 0.5823142\ttest: 0.5811385\tbest: 0.5811385 (13)\ttotal: 83.6ms\tremaining: 215ms\n",
      "14:\tlearn: 0.5750583\ttest: 0.5739877\tbest: 0.5739877 (14)\ttotal: 87.1ms\tremaining: 203ms\n",
      "15:\tlearn: 0.5670829\ttest: 0.5660306\tbest: 0.5660306 (15)\ttotal: 90.5ms\tremaining: 192ms\n",
      "16:\tlearn: 0.5606428\ttest: 0.5595319\tbest: 0.5595319 (16)\ttotal: 95.6ms\tremaining: 186ms\n",
      "17:\tlearn: 0.5557342\ttest: 0.5546114\tbest: 0.5546114 (17)\ttotal: 99.2ms\tremaining: 176ms\n",
      "18:\tlearn: 0.5515599\ttest: 0.5504129\tbest: 0.5504129 (18)\ttotal: 103ms\tremaining: 167ms\n",
      "19:\tlearn: 0.5477247\ttest: 0.5465812\tbest: 0.5465812 (19)\ttotal: 106ms\tremaining: 159ms\n",
      "20:\tlearn: 0.5441754\ttest: 0.5430528\tbest: 0.5430528 (20)\ttotal: 110ms\tremaining: 152ms\n",
      "21:\tlearn: 0.5409016\ttest: 0.5397288\tbest: 0.5397288 (21)\ttotal: 113ms\tremaining: 144ms\n",
      "22:\tlearn: 0.5384853\ttest: 0.5372778\tbest: 0.5372778 (22)\ttotal: 117ms\tremaining: 137ms\n",
      "23:\tlearn: 0.5366788\ttest: 0.5354358\tbest: 0.5354358 (23)\ttotal: 121ms\tremaining: 131ms\n",
      "24:\tlearn: 0.5348881\ttest: 0.5336403\tbest: 0.5336403 (24)\ttotal: 125ms\tremaining: 125ms\n",
      "25:\tlearn: 0.5332957\ttest: 0.5320615\tbest: 0.5320615 (25)\ttotal: 128ms\tremaining: 118ms\n",
      "26:\tlearn: 0.5320345\ttest: 0.5308298\tbest: 0.5308298 (26)\ttotal: 132ms\tremaining: 113ms\n",
      "27:\tlearn: 0.5307959\ttest: 0.5295557\tbest: 0.5295557 (27)\ttotal: 136ms\tremaining: 107ms\n",
      "28:\tlearn: 0.5295909\ttest: 0.5283652\tbest: 0.5283652 (28)\ttotal: 139ms\tremaining: 101ms\n",
      "29:\tlearn: 0.5286595\ttest: 0.5274385\tbest: 0.5274385 (29)\ttotal: 143ms\tremaining: 95.3ms\n",
      "30:\tlearn: 0.5276248\ttest: 0.5264116\tbest: 0.5264116 (30)\ttotal: 147ms\tremaining: 89.8ms\n",
      "31:\tlearn: 0.5271416\ttest: 0.5259237\tbest: 0.5259237 (31)\ttotal: 151ms\tremaining: 85ms\n",
      "32:\tlearn: 0.5264064\ttest: 0.5251807\tbest: 0.5251807 (32)\ttotal: 155ms\tremaining: 79.6ms\n",
      "33:\tlearn: 0.5259151\ttest: 0.5246710\tbest: 0.5246710 (33)\ttotal: 159ms\tremaining: 74.7ms\n",
      "34:\tlearn: 0.5252408\ttest: 0.5240047\tbest: 0.5240047 (34)\ttotal: 162ms\tremaining: 69.5ms\n",
      "35:\tlearn: 0.5247003\ttest: 0.5234707\tbest: 0.5234707 (35)\ttotal: 166ms\tremaining: 64.4ms\n",
      "36:\tlearn: 0.5241463\ttest: 0.5229200\tbest: 0.5229200 (36)\ttotal: 169ms\tremaining: 59.4ms\n",
      "37:\tlearn: 0.5237427\ttest: 0.5225256\tbest: 0.5225256 (37)\ttotal: 173ms\tremaining: 54.6ms\n",
      "38:\tlearn: 0.5235527\ttest: 0.5223377\tbest: 0.5223377 (38)\ttotal: 179ms\tremaining: 50.5ms\n",
      "39:\tlearn: 0.5231986\ttest: 0.5219892\tbest: 0.5219892 (39)\ttotal: 184ms\tremaining: 46.1ms\n",
      "40:\tlearn: 0.5228991\ttest: 0.5216911\tbest: 0.5216911 (40)\ttotal: 189ms\tremaining: 41.4ms\n",
      "41:\tlearn: 0.5227017\ttest: 0.5215367\tbest: 0.5215367 (41)\ttotal: 194ms\tremaining: 36.9ms\n",
      "42:\tlearn: 0.5225192\ttest: 0.5213528\tbest: 0.5213528 (42)\ttotal: 199ms\tremaining: 32.4ms\n",
      "43:\tlearn: 0.5223190\ttest: 0.5211722\tbest: 0.5211722 (43)\ttotal: 204ms\tremaining: 27.8ms\n",
      "44:\tlearn: 0.5221224\ttest: 0.5209734\tbest: 0.5209734 (44)\ttotal: 211ms\tremaining: 23.4ms\n",
      "45:\tlearn: 0.5219019\ttest: 0.5207663\tbest: 0.5207663 (45)\ttotal: 214ms\tremaining: 18.6ms\n",
      "46:\tlearn: 0.5217476\ttest: 0.5206867\tbest: 0.5206867 (46)\ttotal: 218ms\tremaining: 13.9ms\n",
      "47:\tlearn: 0.5214935\ttest: 0.5204433\tbest: 0.5204433 (47)\ttotal: 222ms\tremaining: 9.26ms\n",
      "48:\tlearn: 0.5213523\ttest: 0.5203547\tbest: 0.5203547 (48)\ttotal: 227ms\tremaining: 4.64ms\n",
      "49:\tlearn: 0.5212911\ttest: 0.5203049\tbest: 0.5203049 (49)\ttotal: 231ms\tremaining: 0us\n",
      "\n",
      "bestTest = 0.5203049035\n",
      "bestIteration = 49\n",
      "\n"
     ]
    },
    {
     "data": {
      "text/plain": [
       "<catboost.core.CatBoostRegressor at 0x1ccd53e1788>"
      ]
     },
     "execution_count": 113,
     "metadata": {},
     "output_type": "execute_result"
    }
   ],
   "source": [
    "cat3.fit(data2, target,cat_features = cat_var2, eval_set = (data2, target))"
   ]
  },
  {
   "cell_type": "code",
   "execution_count": 114,
   "metadata": {},
   "outputs": [],
   "source": [
    "pred2 = cat3.predict(test2)"
   ]
  },
  {
   "cell_type": "code",
   "execution_count": 115,
   "metadata": {},
   "outputs": [
    {
     "data": {
      "text/plain": [
       "(3532,)"
      ]
     },
     "execution_count": 115,
     "metadata": {},
     "output_type": "execute_result"
    }
   ],
   "source": [
    "pred2.shape"
   ]
  },
  {
   "cell_type": "code",
   "execution_count": 116,
   "metadata": {},
   "outputs": [],
   "source": [
    "sub2 = pd.DataFrame(pred2, columns = ['Item_Store_Returns'])"
   ]
  },
  {
   "cell_type": "code",
   "execution_count": 118,
   "metadata": {},
   "outputs": [
    {
     "data": {
      "text/html": [
       "<div>\n",
       "<style scoped>\n",
       "    .dataframe tbody tr th:only-of-type {\n",
       "        vertical-align: middle;\n",
       "    }\n",
       "\n",
       "    .dataframe tbody tr th {\n",
       "        vertical-align: top;\n",
       "    }\n",
       "\n",
       "    .dataframe thead th {\n",
       "        text-align: right;\n",
       "    }\n",
       "</style>\n",
       "<table border=\"1\" class=\"dataframe\">\n",
       "  <thead>\n",
       "    <tr style=\"text-align: right;\">\n",
       "      <th></th>\n",
       "      <th>Item_Store_Returns</th>\n",
       "    </tr>\n",
       "  </thead>\n",
       "  <tbody>\n",
       "    <tr>\n",
       "      <th>0</th>\n",
       "      <td>6.879814</td>\n",
       "    </tr>\n",
       "    <tr>\n",
       "      <th>1</th>\n",
       "      <td>8.803116</td>\n",
       "    </tr>\n",
       "    <tr>\n",
       "      <th>2</th>\n",
       "      <td>8.856973</td>\n",
       "    </tr>\n",
       "    <tr>\n",
       "      <th>3</th>\n",
       "      <td>6.889891</td>\n",
       "    </tr>\n",
       "    <tr>\n",
       "      <th>4</th>\n",
       "      <td>8.810511</td>\n",
       "    </tr>\n",
       "  </tbody>\n",
       "</table>\n",
       "</div>"
      ],
      "text/plain": [
       "   Item_Store_Returns\n",
       "0            6.879814\n",
       "1            8.803116\n",
       "2            8.856973\n",
       "3            6.889891\n",
       "4            8.810511"
      ]
     },
     "execution_count": 118,
     "metadata": {},
     "output_type": "execute_result"
    }
   ],
   "source": [
    "sub2.head()"
   ]
  },
  {
   "cell_type": "code",
   "execution_count": 120,
   "metadata": {},
   "outputs": [],
   "source": [
    "sub2['Item_Store_Returns'] = round(np.exp(sub2['Item_Store_Returns'])).astype('int')"
   ]
  },
  {
   "cell_type": "code",
   "execution_count": 126,
   "metadata": {},
   "outputs": [
    {
     "data": {
      "text/html": [
       "<div>\n",
       "<style scoped>\n",
       "    .dataframe tbody tr th:only-of-type {\n",
       "        vertical-align: middle;\n",
       "    }\n",
       "\n",
       "    .dataframe tbody tr th {\n",
       "        vertical-align: top;\n",
       "    }\n",
       "\n",
       "    .dataframe thead th {\n",
       "        text-align: right;\n",
       "    }\n",
       "</style>\n",
       "<table border=\"1\" class=\"dataframe\">\n",
       "  <thead>\n",
       "    <tr style=\"text-align: right;\">\n",
       "      <th></th>\n",
       "      <th>Item_Store_Returns</th>\n",
       "    </tr>\n",
       "  </thead>\n",
       "  <tbody>\n",
       "    <tr>\n",
       "      <th>0</th>\n",
       "      <td>972</td>\n",
       "    </tr>\n",
       "    <tr>\n",
       "      <th>1</th>\n",
       "      <td>6655</td>\n",
       "    </tr>\n",
       "    <tr>\n",
       "      <th>2</th>\n",
       "      <td>7023</td>\n",
       "    </tr>\n",
       "    <tr>\n",
       "      <th>3</th>\n",
       "      <td>982</td>\n",
       "    </tr>\n",
       "    <tr>\n",
       "      <th>4</th>\n",
       "      <td>6704</td>\n",
       "    </tr>\n",
       "  </tbody>\n",
       "</table>\n",
       "</div>"
      ],
      "text/plain": [
       "   Item_Store_Returns\n",
       "0                 972\n",
       "1                6655\n",
       "2                7023\n",
       "3                 982\n",
       "4                6704"
      ]
     },
     "execution_count": 126,
     "metadata": {},
     "output_type": "execute_result"
    }
   ],
   "source": [
    "sub2.head()"
   ]
  },
  {
   "cell_type": "code",
   "execution_count": 127,
   "metadata": {},
   "outputs": [],
   "source": [
    "submission = pd.concat([submit, sub2], axis = 1)"
   ]
  },
  {
   "cell_type": "code",
   "execution_count": 128,
   "metadata": {},
   "outputs": [
    {
     "data": {
      "text/html": [
       "<div>\n",
       "<style scoped>\n",
       "    .dataframe tbody tr th:only-of-type {\n",
       "        vertical-align: middle;\n",
       "    }\n",
       "\n",
       "    .dataframe tbody tr th {\n",
       "        vertical-align: top;\n",
       "    }\n",
       "\n",
       "    .dataframe thead th {\n",
       "        text-align: right;\n",
       "    }\n",
       "</style>\n",
       "<table border=\"1\" class=\"dataframe\">\n",
       "  <thead>\n",
       "    <tr style=\"text-align: right;\">\n",
       "      <th></th>\n",
       "      <th>Item_Store_ID</th>\n",
       "      <th>Item_Store_Returns</th>\n",
       "    </tr>\n",
       "  </thead>\n",
       "  <tbody>\n",
       "    <tr>\n",
       "      <th>0</th>\n",
       "      <td>DRA59_BABATUNJI010</td>\n",
       "      <td>972</td>\n",
       "    </tr>\n",
       "    <tr>\n",
       "      <th>1</th>\n",
       "      <td>DRA59_BABATUNJI013</td>\n",
       "      <td>6655</td>\n",
       "    </tr>\n",
       "    <tr>\n",
       "      <th>2</th>\n",
       "      <td>DRB01_BABATUNJI013</td>\n",
       "      <td>7023</td>\n",
       "    </tr>\n",
       "    <tr>\n",
       "      <th>3</th>\n",
       "      <td>DRB13_BABATUNJI010</td>\n",
       "      <td>982</td>\n",
       "    </tr>\n",
       "    <tr>\n",
       "      <th>4</th>\n",
       "      <td>DRB13_BABATUNJI013</td>\n",
       "      <td>6704</td>\n",
       "    </tr>\n",
       "  </tbody>\n",
       "</table>\n",
       "</div>"
      ],
      "text/plain": [
       "        Item_Store_ID  Item_Store_Returns\n",
       "0  DRA59_BABATUNJI010                 972\n",
       "1  DRA59_BABATUNJI013                6655\n",
       "2  DRB01_BABATUNJI013                7023\n",
       "3  DRB13_BABATUNJI010                 982\n",
       "4  DRB13_BABATUNJI013                6704"
      ]
     },
     "execution_count": 128,
     "metadata": {},
     "output_type": "execute_result"
    }
   ],
   "source": [
    "submission.head()"
   ]
  },
  {
   "cell_type": "code",
   "execution_count": 129,
   "metadata": {},
   "outputs": [
    {
     "data": {
      "text/plain": [
       "(3532, 2)"
      ]
     },
     "execution_count": 129,
     "metadata": {},
     "output_type": "execute_result"
    }
   ],
   "source": [
    "submission.shape"
   ]
  },
  {
   "cell_type": "code",
   "execution_count": 130,
   "metadata": {},
   "outputs": [],
   "source": [
    "submission.to_csv('My_submission.csv', index = False)"
   ]
  },
  {
   "cell_type": "code",
   "execution_count": null,
   "metadata": {},
   "outputs": [],
   "source": []
  }
 ],
 "metadata": {
  "kernelspec": {
   "display_name": "Python 3",
   "language": "python",
   "name": "python3"
  },
  "language_info": {
   "codemirror_mode": {
    "name": "ipython",
    "version": 3
   },
   "file_extension": ".py",
   "mimetype": "text/x-python",
   "name": "python",
   "nbconvert_exporter": "python",
   "pygments_lexer": "ipython3",
   "version": "3.7.6"
  }
 },
 "nbformat": 4,
 "nbformat_minor": 4
}
